{
 "cells": [
  {
   "cell_type": "code",
   "execution_count": 1,
   "id": "53b0715b",
   "metadata": {},
   "outputs": [],
   "source": [
    "import pandas as pd\n",
    "import sqlite3\n",
    "import os"
   ]
  },
  {
   "cell_type": "code",
   "execution_count": 2,
   "id": "94fd92b2",
   "metadata": {},
   "outputs": [],
   "source": [
    "conn = sqlite3.connect(\"larioja.sqlite3\")"
   ]
  },
  {
   "cell_type": "code",
   "execution_count": 3,
   "id": "11caa505",
   "metadata": {},
   "outputs": [],
   "source": [
    "cursor = conn.cursor()"
   ]
  },
  {
   "cell_type": "code",
   "execution_count": 4,
   "id": "5b7a3f86",
   "metadata": {},
   "outputs": [
    {
     "data": {
      "text/plain": [
       "<sqlite3.Cursor at 0x1c7beea54c0>"
      ]
     },
     "execution_count": 4,
     "metadata": {},
     "output_type": "execute_result"
    }
   ],
   "source": [
    "# Crear la tabla documento\n",
    "cursor.execute('''\n",
    "    CREATE TABLE IF NOT EXISTS documento (\n",
    "        id_documento INTEGER PRIMARY KEY,\n",
    "        filename TEXT,\n",
    "        text TEXT\n",
    "    )\n",
    "''')"
   ]
  },
  {
   "cell_type": "code",
   "execution_count": 5,
   "id": "7f146b11",
   "metadata": {},
   "outputs": [],
   "source": [
    "# Confirmar cambios\n",
    "conn.commit()"
   ]
  },
  {
   "cell_type": "code",
   "execution_count": 6,
   "id": "983db198",
   "metadata": {},
   "outputs": [
    {
     "data": {
      "text/plain": [
       "<sqlite3.Cursor at 0x1c7beea54c0>"
      ]
     },
     "execution_count": 6,
     "metadata": {},
     "output_type": "execute_result"
    }
   ],
   "source": [
    "cursor.execute('''\n",
    "    CREATE TABLE IF NOT EXISTS parrafo (\n",
    "        id_parrafo INTEGER PRIMARY KEY,\n",
    "        parrafo_texto TEXT,\n",
    "        parrafo_limpio TEXT,\n",
    "        init_p INTEGER,\n",
    "        length_p INTEGER,\n",
    "        id_documento INTEGER,\n",
    "        FOREIGN KEY (id_documento) REFERENCES documento(id_documento)\n",
    "    )\n",
    "''')"
   ]
  },
  {
   "cell_type": "code",
   "execution_count": 7,
   "id": "f370f5eb",
   "metadata": {},
   "outputs": [],
   "source": [
    "conn.commit()"
   ]
  },
  {
   "cell_type": "code",
   "execution_count": 8,
   "id": "07e85c47",
   "metadata": {},
   "outputs": [
    {
     "data": {
      "text/plain": [
       "<sqlite3.Cursor at 0x1c7beea54c0>"
      ]
     },
     "execution_count": 8,
     "metadata": {},
     "output_type": "execute_result"
    }
   ],
   "source": [
    "cursor.execute('''\n",
    "    CREATE TABLE IF NOT EXISTS oracion (\n",
    "        id_oracion INTEGER PRIMARY KEY,\n",
    "        oracion_texto TEXT,\n",
    "        oracion_limpio TEXT,\n",
    "        init_o INTEGER,\n",
    "        length_o INTEGER,\n",
    "        id_parrafo INTEGER,\n",
    "        FOREIGN KEY (id_parrafo) REFERENCES documento(id_parrafo)\n",
    "    )\n",
    "''')"
   ]
  },
  {
   "cell_type": "code",
   "execution_count": 9,
   "id": "40d0ad3d",
   "metadata": {},
   "outputs": [],
   "source": [
    "conn.commit()"
   ]
  },
  {
   "cell_type": "code",
   "execution_count": null,
   "id": "359872d4",
   "metadata": {},
   "outputs": [],
   "source": []
  }
 ],
 "metadata": {
  "kernelspec": {
   "display_name": "Python 3 (ipykernel)",
   "language": "python",
   "name": "python3"
  },
  "language_info": {
   "codemirror_mode": {
    "name": "ipython",
    "version": 3
   },
   "file_extension": ".py",
   "mimetype": "text/x-python",
   "name": "python",
   "nbconvert_exporter": "python",
   "pygments_lexer": "ipython3",
   "version": "3.11.5"
  }
 },
 "nbformat": 4,
 "nbformat_minor": 5
}
