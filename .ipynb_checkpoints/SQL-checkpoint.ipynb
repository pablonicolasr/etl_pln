{
 "cells": [
  {
   "cell_type": "code",
   "execution_count": 1,
   "id": "53b0715b",
   "metadata": {},
   "outputs": [],
   "source": [
    "import pandas as pd\n",
    "import sqlite3\n",
    "import os\n",
    "import re"
   ]
  },
  {
   "cell_type": "code",
   "execution_count": 2,
   "id": "211dddc2",
   "metadata": {},
   "outputs": [],
   "source": [
    "def split_into_sentences(text):\n",
    "    \n",
    "    sentence_endings = re.compile(r'(?<!\\w\\.\\w.)(?<![A-Z][a-z]\\.)(?<=\\.|\\!|\\?)\\s')\n",
    "    sentences = sentence_endings.split(text)    \n",
    "\n",
    "    sentences = [sentence.strip() for sentence in sentences if sentence]\n",
    "    \n",
    "    return sentences"
   ]
  },
  {
   "cell_type": "code",
   "execution_count": 3,
   "id": "94fd92b2",
   "metadata": {},
   "outputs": [],
   "source": [
    "conn = sqlite3.connect(\"etl.sqlite3\")"
   ]
  },
  {
   "cell_type": "code",
   "execution_count": null,
   "id": "11caa505",
   "metadata": {},
   "outputs": [],
   "source": [
    "cursor = conn.cursor()"
   ]
  },
  {
   "cell_type": "code",
   "execution_count": null,
   "id": "5b7a3f86",
   "metadata": {},
   "outputs": [],
   "source": [
    "# Crear la tabla documento\n",
    "cursor.execute('''\n",
    "    CREATE TABLE IF NOT EXISTS documento (\n",
    "        id_documento INTEGER PRIMARY KEY,\n",
    "        filename TEXT,\n",
    "        text TEXT\n",
    "    )\n",
    "''')"
   ]
  },
  {
   "cell_type": "code",
   "execution_count": null,
   "id": "7f146b11",
   "metadata": {},
   "outputs": [],
   "source": [
    "# Confirmar cambios\n",
    "conn.commit()"
   ]
  },
  {
   "cell_type": "code",
   "execution_count": null,
   "id": "983db198",
   "metadata": {},
   "outputs": [],
   "source": [
    "cursor.execute('''\n",
    "    CREATE TABLE IF NOT EXISTS parrafo (\n",
    "        id_parrafo INTEGER PRIMARY KEY,\n",
    "        parrafo_texto TEXT,\n",
    "        parrafo_limpio TEXT,\n",
    "        init_p INTEGER,\n",
    "        length_p INTEGER,\n",
    "        id_documento INTEGER,\n",
    "        FOREIGN KEY (id_documento) REFERENCES documento(id_documento)\n",
    "    )\n",
    "''')"
   ]
  },
  {
   "cell_type": "code",
   "execution_count": null,
   "id": "f370f5eb",
   "metadata": {},
   "outputs": [],
   "source": [
    "conn.commit()"
   ]
  },
  {
   "cell_type": "code",
   "execution_count": null,
   "id": "07e85c47",
   "metadata": {},
   "outputs": [],
   "source": [
    "cursor.execute('''\n",
    "    CREATE TABLE IF NOT EXISTS oracion (\n",
    "        id_oracion INTEGER PRIMARY KEY,\n",
    "        oracion_texto TEXT,\n",
    "        oracion_limpio TEXT,\n",
    "        init_o INTEGER,\n",
    "        length_o INTEGER,\n",
    "        id_parrafo INTEGER,\n",
    "        FOREIGN KEY (id_parrafo) REFERENCES documento(id_parrafo)\n",
    "    )\n",
    "''')"
   ]
  },
  {
   "cell_type": "code",
   "execution_count": null,
   "id": "40d0ad3d",
   "metadata": {},
   "outputs": [],
   "source": [
    "conn.commit()"
   ]
  },
  {
   "cell_type": "code",
   "execution_count": null,
   "id": "359872d4",
   "metadata": {},
   "outputs": [],
   "source": [
    "df = pd.read_excel(\"intrinsic.xlsx\", sheet_name=\"Sheet1\")\n",
    "# Si el excel tiene una sola hoja, no hace falta pasar el parametro sheet_name\n",
    "# en caso contrario, especificar ese parametro"
   ]
  },
  {
   "cell_type": "code",
   "execution_count": null,
   "id": "24cf3578",
   "metadata": {},
   "outputs": [],
   "source": [
    "df.head(5)"
   ]
  },
  {
   "cell_type": "code",
   "execution_count": null,
   "id": "4cd52166",
   "metadata": {},
   "outputs": [],
   "source": [
    "class Segmentation:\n",
    "    \n",
    "    def __init__(self, text):\n",
    "        \n",
    "        self.text = text\n",
    "        \n",
    "    def sentSegmentation(self):\n",
    "        \n",
    "        sentence = split_into_sentences(self.text)\n",
    "        \n",
    "        return split_into_sentences(sentence) # Elimina oraciones vacías\n",
    "    \n",
    "    def paraSegmentation(self):\n",
    "        \n",
    "        texto = self.text.split(\"\\n\\n\")\n",
    "        \n",
    "        return list(filter(bool, texto)) # Elimina parrafos vacíos"
   ]
  },
  {
   "cell_type": "code",
   "execution_count": null,
   "id": "6678b56d",
   "metadata": {},
   "outputs": [],
   "source": [
    "SPECIAL_CHARACTERS = []\n",
    "\n",
    "SPECIAL_CHARACTERS.extend(map(chr, range(0, 32)))\n",
    "SPECIAL_CHARACTERS.extend(map(chr, range(33, 48)))\n",
    "SPECIAL_CHARACTERS.extend(map(chr, range(58, 65)))\n",
    "SPECIAL_CHARACTERS.extend(map(chr, range(91, 97)))\n",
    "SPECIAL_CHARACTERS.extend(map(chr, range(123, 225)))\n",
    "SPECIAL_CHARACTERS.extend(map(chr, range(226, 233)))\n",
    "SPECIAL_CHARACTERS.extend(map(chr, range(234, 237)))\n",
    "SPECIAL_CHARACTERS.extend(map(chr, range(238, 241)))\n",
    "SPECIAL_CHARACTERS.extend(map(chr, range(242, 243)))\n",
    "SPECIAL_CHARACTERS.extend(map(chr, range(244, 250)))\n",
    "SPECIAL_CHARACTERS.extend(map(chr, range(251, 880)))"
   ]
  },
  {
   "cell_type": "code",
   "execution_count": null,
   "id": "12e83700",
   "metadata": {},
   "outputs": [],
   "source": [
    "class CleanText():\n",
    "    \n",
    "    def __init__(self, text):\n",
    "        \n",
    "        self.text = text\n",
    "    \n",
    "    def removePatterns(self):\n",
    "        \n",
    "        replacements = (\n",
    "            (\"á\", \"a\"),\n",
    "            (\"é\", \"e\"),\n",
    "            (\"í\", \"i\"),\n",
    "            (\"ó\", \"o\"),\n",
    "            (\"ú\", \"u\"),\n",
    "        )\n",
    "        \n",
    "        self.text = str(self.text)\n",
    "        \n",
    "        self.clean_text = self.text.lower()\n",
    "        \n",
    "        self.clean_text = re.sub(r\"\\s{2,}\", \"\", self.clean_text)\n",
    "        \n",
    "        self.clean_text = re.sub(r\"\\n\", \"\", self.clean_text)\n",
    "        \n",
    "        self.clean_text = re.sub(r\"\\d+\", \"\", self.clean_text)\n",
    "        \n",
    "        self.clean_text = re.sub(r\"^\\s+\", \"\", self.clean_text)\n",
    "        \n",
    "        self.clean_text = re.sub(r\"\\s+\", \"\", self.clean_text)\n",
    "        \n",
    "        for a, b in replacements:\n",
    "            \n",
    "            self.clean_text = self.clean_text.replace(a, b).replace(a.upper(), b.upper())\n",
    "        \n",
    "        return self.clean_text "
   ]
  },
  {
   "cell_type": "code",
   "execution_count": null,
   "id": "b7af1b58",
   "metadata": {},
   "outputs": [],
   "source": [
    "j = 0\n",
    "\n",
    "for i, row in enumerate(df.itertuples(), 1):\n",
    "    \n",
    "    # Create the SQL query\n",
    "    query = \"INSERT INTO documento (id_documento, filename, text) VALUES (?, ?, ?)\"\n",
    "    \n",
    "    # Execute the query\n",
    "    cursor.execute(query, (i, row.filename, row.text))\n",
    "    \n",
    "conn.commit()"
   ]
  },
  {
   "cell_type": "code",
   "execution_count": null,
   "id": "0abc68ca",
   "metadata": {},
   "outputs": [],
   "source": []
  },
  {
   "cell_type": "code",
   "execution_count": null,
   "id": "845426b9",
   "metadata": {},
   "outputs": [],
   "source": []
  }
 ],
 "metadata": {
  "kernelspec": {
   "display_name": "Python 3 (ipykernel)",
   "language": "python",
   "name": "python3"
  },
  "language_info": {
   "codemirror_mode": {
    "name": "ipython",
    "version": 3
   },
   "file_extension": ".py",
   "mimetype": "text/x-python",
   "name": "python",
   "nbconvert_exporter": "python",
   "pygments_lexer": "ipython3",
   "version": "3.11.5"
  }
 },
 "nbformat": 4,
 "nbformat_minor": 5
}
